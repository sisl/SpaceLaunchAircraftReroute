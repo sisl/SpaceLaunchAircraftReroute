{
 "cells": [
  {
   "cell_type": "markdown",
   "metadata": {},
   "source": [
    "# Run Simulations"
   ]
  },
  {
   "cell_type": "markdown",
   "metadata": {},
   "source": [
    "## Use the MDP file"
   ]
  },
  {
   "cell_type": "code",
   "execution_count": 1,
   "metadata": {
    "collapsed": false
   },
   "outputs": [],
   "source": [
    "using CSLV_\n",
    "problem = CSLVProblem();"
   ]
  },
  {
   "cell_type": "markdown",
   "metadata": {},
   "source": [
    "## Read in the result data (make sure matches problem)"
   ]
  },
  {
   "cell_type": "code",
   "execution_count": 2,
   "metadata": {
    "collapsed": true
   },
   "outputs": [],
   "source": [
    "qh = readdlm(\"dvi_testdata\")\n",
    "h = reshape(qh, length(qh));"
   ]
  },
  {
   "cell_type": "markdown",
   "metadata": {},
   "source": [
    "## Use the simulation file"
   ]
  },
  {
   "cell_type": "code",
   "execution_count": 3,
   "metadata": {
    "collapsed": false
   },
   "outputs": [],
   "source": [
    "using ProgressMeter\n",
    "include(\"simulations.jl\");"
   ]
  },
  {
   "cell_type": "markdown",
   "metadata": {},
   "source": [
    "# Run simulations (in order)"
   ]
  },
  {
   "cell_type": "markdown",
   "metadata": {},
   "source": [
    "### Nominal Simulation Results"
   ]
  },
  {
   "cell_type": "code",
   "execution_count": 5,
   "metadata": {
    "collapsed": false
   },
   "outputs": [
    {
     "name": "stdout",
     "output_type": "stream",
     "text": [
      "Computing...100% Time: 0:00:14\n",
      "\n",
      "RESULTS:\n",
      "weighted number nominally rerouted\n",
      "0.0\n",
      "% nominally rerouted\n",
      "0.0\n",
      "average weighted nominal distance\n",
      "206560.24\n",
      "average added nominal distance (m)\n",
      "0.0\n",
      "weighted number nominally traverse 10x safety  region\n",
      "86.72\n",
      "percent nominally traverse 10x safety  region\n",
      "0.86\n"
     ]
    }
   ],
   "source": [
    "distance = nominal(problem, xArray, yArray, nameArray, xEllipse, yEllipse, weight);"
   ]
  },
  {
   "cell_type": "markdown",
   "metadata": {},
   "source": [
    "### Historic Simulation Results"
   ]
  },
  {
   "cell_type": "code",
   "execution_count": 6,
   "metadata": {
    "collapsed": false
   },
   "outputs": [
    {
     "name": "stdout",
     "output_type": "stream",
     "text": [
      "Computing...100% Time: 0:00:23\n",
      "\n",
      "RESULTS:\n",
      "weighted number histrically rerouted\n",
      "101.0\n",
      "% historically rerouted\n",
      "100.0\n",
      "average weighted historic distance\n",
      "215214.54\n",
      "average added historic distance\n",
      "8654.3\n",
      "weighted number historically traverse 10x safety region\n",
      "0.0\n",
      "percent historically traverse 10x safety  region\n",
      "0.0\n"
     ]
    }
   ],
   "source": [
    "historic(problem, xArray, yArray, nameArray, xEllipse, yEllipse, xFoci, yFoci, threshold, weight, distance);"
   ]
  },
  {
   "cell_type": "markdown",
   "metadata": {},
   "source": [
    "### Proposed Simulation Results\n",
    "#### (takes longer than previous two simulations)"
   ]
  },
  {
   "cell_type": "code",
   "execution_count": 7,
   "metadata": {
    "collapsed": false
   },
   "outputs": [
    {
     "name": "stdout",
     "output_type": "stream",
     "text": [
      "Computing...100% Time: 0:05:08\n",
      "\n",
      "RESULTS:\n",
      "weighted number proposed rerouted\n",
      "179.41\n",
      "% proposed rerouted\n",
      "1.78\n",
      "average weighted proposed distance\n",
      "210190.65\n",
      "average added proposed distance\n",
      "3630.41\n",
      "weighted number proposed traverse 10x safety region\n",
      "46.83\n",
      "percent propsed traverse 10x safety  region\n",
      "0.46\n"
     ]
    }
   ],
   "source": [
    "proposed(problem, h, xArray, yArray, nameArray, xEllipse, yEllipse, weight, distance);"
   ]
  },
  {
   "cell_type": "code",
   "execution_count": null,
   "metadata": {
    "collapsed": true
   },
   "outputs": [],
   "source": []
  },
  {
   "cell_type": "code",
   "execution_count": null,
   "metadata": {
    "collapsed": true
   },
   "outputs": [],
   "source": []
  }
 ],
 "metadata": {
  "kernelspec": {
   "display_name": "Julia 0.5.0",
   "language": "julia",
   "name": "julia-0.5"
  },
  "language_info": {
   "file_extension": ".jl",
   "mimetype": "application/julia",
   "name": "julia",
   "version": "0.5.0"
  }
 },
 "nbformat": 4,
 "nbformat_minor": 0
}
