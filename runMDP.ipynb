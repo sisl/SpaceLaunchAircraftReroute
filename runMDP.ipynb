{
 "cells": [
  {
   "cell_type": "markdown",
   "metadata": {},
   "source": [
    "# Solve MDP"
   ]
  },
  {
   "cell_type": "markdown",
   "metadata": {},
   "source": [
    "## Setup to solve MDP solution in parallel"
   ]
  },
  {
   "cell_type": "code",
   "execution_count": 1,
   "metadata": {
    "collapsed": false
   },
   "outputs": [
    {
     "name": "stderr",
     "output_type": "stream",
     "text": [
      "WARNING: replacing module ParallelVI_\n",
      "WARNING: replacing module ParallelVI_\n",
      "WARNING: replacing module ParallelVI_\n"
     ]
    },
    {
     "data": {
      "text/plain": [
       "parallelTest (generic function with 1 method)"
      ]
     },
     "execution_count": 1,
     "metadata": {},
     "output_type": "execute_result"
    }
   ],
   "source": [
    "# include(\"CSLVProblem_.jl\")\n",
    "# include(\"CSLV_.jl\")\n",
    "# include(\"MDPSolver_.jl\")\n",
    "# include(\"ParallelVI_.jl\")\n",
    "include(\"lvTest.jl\")"
   ]
  },
  {
   "cell_type": "code",
   "execution_count": 2,
   "metadata": {
    "collapsed": false
   },
   "outputs": [
    {
     "data": {
      "text/plain": [
       "4"
      ]
     },
     "execution_count": 2,
     "metadata": {},
     "output_type": "execute_result"
    }
   ],
   "source": [
    "nprocs()"
   ]
  },
  {
   "cell_type": "markdown",
   "metadata": {},
   "source": [
    "## How many cores do you wish to use? "
   ]
  },
  {
   "cell_type": "code",
   "execution_count": 3,
   "metadata": {
    "collapsed": false
   },
   "outputs": [
    {
     "data": {
      "text/plain": [
       "4"
      ]
     },
     "execution_count": 3,
     "metadata": {},
     "output_type": "execute_result"
    }
   ],
   "source": [
    "cores = 4"
   ]
  },
  {
   "cell_type": "markdown",
   "metadata": {},
   "source": [
    "## Solve for the utility - 82 Chunks"
   ]
  },
  {
   "cell_type": "code",
   "execution_count": null,
   "metadata": {
    "collapsed": false,
    "scrolled": true
   },
   "outputs": [
    {
     "name": "stdout",
     "output_type": "stream",
     "text": [
      "elapsed time: 6.965434769 seconds\n",
      "Chunk: 1, time: 6.965434769\n",
      "elapsed time: 7.934691135 seconds\n",
      "Chunk: 2, time: 7.934691135\n",
      "elapsed time: 8.077368012 seconds\n",
      "Chunk: 3, time: 8.077368012\n",
      "elapsed time: 8.283617233 seconds\n",
      "Chunk: 4, time: 8.283617233\n",
      "elapsed time: 8.311382027 seconds\n",
      "Chunk: 5, time: 8.311382027\n",
      "elapsed time: 9.197373219 seconds\n",
      "Chunk: 6, time: 9.197373219\n",
      "elapsed time: 8.137616774 seconds\n",
      "Chunk: 7, time: 8.137616774\n",
      "elapsed time: 7.934541125 seconds\n",
      "Chunk: 8, time: 7.934541125\n",
      "elapsed time: 7.574740194 seconds\n",
      "Chunk: 9, time: 7.574740194\n",
      "elapsed time: 7.754774157 seconds\n",
      "Chunk: 10, time: 7.754774157\n",
      "elapsed time: 7.918013818 seconds\n",
      "Chunk: 11, time: 7.918013818\n"
     ]
    }
   ],
   "source": [
    "utility = parallelTest(cores);"
   ]
  },
  {
   "cell_type": "markdown",
   "metadata": {},
   "source": [
    "## Open file, Change the filename to requested name!"
   ]
  },
  {
   "cell_type": "code",
   "execution_count": null,
   "metadata": {
    "collapsed": false
   },
   "outputs": [],
   "source": [
    "f = open(\"lambda0.0\",\"w\")"
   ]
  },
  {
   "cell_type": "markdown",
   "metadata": {},
   "source": [
    "## Write results"
   ]
  },
  {
   "cell_type": "code",
   "execution_count": null,
   "metadata": {
    "collapsed": false
   },
   "outputs": [],
   "source": [
    "writedlm(f,utility)\n",
    "close(f)"
   ]
  },
  {
   "cell_type": "code",
   "execution_count": null,
   "metadata": {
    "collapsed": true
   },
   "outputs": [],
   "source": []
  }
 ],
 "metadata": {
  "kernelspec": {
   "display_name": "Julia 0.5.0",
   "language": "julia",
   "name": "julia-0.5"
  },
  "language_info": {
   "file_extension": ".jl",
   "mimetype": "application/julia",
   "name": "julia",
   "version": "0.5.0"
  }
 },
 "nbformat": 4,
 "nbformat_minor": 0
}
